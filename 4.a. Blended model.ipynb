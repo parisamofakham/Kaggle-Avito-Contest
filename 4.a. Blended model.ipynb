{
 "cells": [
  {
   "cell_type": "markdown",
   "metadata": {},
   "source": [
    "#### Preparation"
   ]
  },
  {
   "cell_type": "code",
   "execution_count": null,
   "metadata": {
    "collapsed": true
   },
   "outputs": [],
   "source": [
    "import pandas as pd\n",
    "import numpy as np"
   ]
  },
  {
   "cell_type": "markdown",
   "metadata": {},
   "source": [
    "### get all models we have"
   ]
  },
  {
   "cell_type": "code",
   "execution_count": null,
   "metadata": {
    "collapsed": true
   },
   "outputs": [],
   "source": [
    "testdata1=pd.read_csv('lgsubcat.csv',header=0)\n",
    "testdata2=pd.read_csv('rnn224.csv',header=0)\n",
    "testdata3=pd.read_csv('xgb.csv',header=0)\n",
    "testdata4=pd.read_csv('lgsub2219.csv',header=0)\n",
    "testdata5=pd.read_csv('StackTest.csv',header=0)\n",
    "testdata5[\"deal_probability\"]=testdata5[\"lgb_pred\"]\n",
    "testdata6=pd.read_csv('ridge.csv',header=0)"
   ]
  },
  {
   "cell_type": "markdown",
   "metadata": {},
   "source": [
    "### blend with a weighted average"
   ]
  },
  {
   "cell_type": "code",
   "execution_count": null,
   "metadata": {
    "collapsed": true
   },
   "outputs": [],
   "source": [
    "# round all numbers to four digits\n",
    "testdata1[\"deal_probability\"]=round(testdata1[\"deal_probability\"],4)\n",
    "testdata2[\"deal_probability\"]=round(testdata2[\"deal_probability\"],4)\n",
    "testdata3[\"deal_probability\"]=round(testdata3[\"deal_probability\"],4)\n",
    "testdata4[\"deal_probability\"]=round(testdata4[\"deal_probability\"],4)\n",
    "testdata5[\"deal_probability\"]=round(testdata5[\"deal_probability\"],4)\n",
    "testdata6[\"deal_probability\"]=round(testdata6[\"deal_probability\"],4)"
   ]
  },
  {
   "cell_type": "markdown",
   "metadata": {},
   "source": [
    "#### the weight is based on experience and model rmse (lower rmse, higher weight)"
   ]
  },
  {
   "cell_type": "code",
   "execution_count": null,
   "metadata": {
    "collapsed": true
   },
   "outputs": [],
   "source": [
    "preds=0.05*testdata1[\"deal_probability\"]+0.25*testdata2[\"deal_probability\"]\\\n",
    "    +0.1*testdata3[\"deal_probability\"]+0.35*testdata4[\"deal_probability\"]\\\n",
    "    +0.15*testdata5[\"deal_probability\"]+0.1*testdata6[\"deal_probability\"]\n",
    "    \n",
    "preds=round(preds,4)"
   ]
  },
  {
   "cell_type": "code",
   "execution_count": null,
   "metadata": {
    "collapsed": true
   },
   "outputs": [],
   "source": [
    "output = pd.DataFrame({'deal_probability': preds, 'item_id': testdata1['item_id']})\n",
    "output = output[['item_id', 'deal_probability']]"
   ]
  },
  {
   "cell_type": "markdown",
   "metadata": {},
   "source": [
    "### considering RMSE scoring, try to narrow the data range to lower RMSE"
   ]
  },
  {
   "cell_type": "code",
   "execution_count": null,
   "metadata": {
    "collapsed": true
   },
   "outputs": [],
   "source": [
    "def mycenter(x):\n",
    "    if x >= 0.9999:\n",
    "        x=0.9999\n",
    "    elif x <= 0.0001:\n",
    "        x=0.0001\n",
    "    else : \n",
    "        x=x\n",
    "    return x"
   ]
  },
  {
   "cell_type": "code",
   "execution_count": null,
   "metadata": {
    "collapsed": true
   },
   "outputs": [],
   "source": [
    "output[\"deal_probability\"]=output[\"deal_probability\"].apply(mycenter)"
   ]
  },
  {
   "cell_type": "markdown",
   "metadata": {},
   "source": [
    "### output and submit"
   ]
  },
  {
   "cell_type": "code",
   "execution_count": null,
   "metadata": {
    "collapsed": true
   },
   "outputs": [],
   "source": [
    "output.to_csv('myblending.csv', index=False) "
   ]
  },
  {
   "cell_type": "markdown",
   "metadata": {},
   "source": [
    "### Final Score:\n",
    "#### Public Score: 0.2205\n",
    "#### Private Score: 0.2243"
   ]
  }
 ],
 "metadata": {
  "kernelspec": {
   "display_name": "Python [default]",
   "language": "python",
   "name": "python3"
  },
  "language_info": {
   "codemirror_mode": {
    "name": "ipython",
    "version": 3
   },
   "file_extension": ".py",
   "mimetype": "text/x-python",
   "name": "python",
   "nbconvert_exporter": "python",
   "pygments_lexer": "ipython3",
   "version": "3.5.3"
  }
 },
 "nbformat": 4,
 "nbformat_minor": 2
}
