{
 "cells": [
  {
   "cell_type": "markdown",
   "metadata": {},
   "source": [
    "### Preparing PySpark"
   ]
  },
  {
   "cell_type": "code",
   "execution_count": 1,
   "metadata": {},
   "outputs": [
    {
     "data": {
      "text/html": [
       "\n",
       "        <div>\n",
       "            <p><b>SparkContext</b></p>\n",
       "\n",
       "            <p><a href=\"http://172.31.26.233:4040\">Spark UI</a></p>\n",
       "\n",
       "            <dl>\n",
       "              <dt>Version</dt>\n",
       "                <dd><code>v2.2.0</code></dd>\n",
       "              <dt>Master</dt>\n",
       "                <dd><code>local[*]</code></dd>\n",
       "              <dt>AppName</dt>\n",
       "                <dd><code>wordcount</code></dd>\n",
       "            </dl>\n",
       "        </div>\n",
       "        "
      ],
      "text/plain": [
       "<SparkContext master=local[*] appName=wordcount>"
      ]
     },
     "execution_count": 1,
     "metadata": {},
     "output_type": "execute_result"
    }
   ],
   "source": [
    "import os\n",
    "os.environ['SPARK_HOME'] = '/usr/local/lib/spark'\n",
    "import findspark\n",
    "findspark.init()\n",
    "from pyspark import SparkContext\n",
    "spark = SparkContext(appName='wordcount')\n",
    "spark"
   ]
  },
  {
   "cell_type": "code",
   "execution_count": 2,
   "metadata": {
    "collapsed": true
   },
   "outputs": [],
   "source": [
    "from pyspark import SQLContext\n",
    "sqlc = SQLContext(spark)"
   ]
  },
  {
   "cell_type": "code",
   "execution_count": 4,
   "metadata": {
    "collapsed": true
   },
   "outputs": [],
   "source": [
    "# reading data\n",
    "train = sqlc.read.csv(\"/home/ubuntu/.kaggle/competitions/avito-demand-prediction/train.csv\",header=True)"
   ]
  },
  {
   "cell_type": "code",
   "execution_count": 52,
   "metadata": {
    "collapsed": true,
    "scrolled": true
   },
   "outputs": [],
   "source": [
    "# setting stopwords for russian text\n",
    "from nltk.corpus import stopwords \n",
    "russian_stop = set(stopwords.words('russian'))"
   ]
  },
  {
   "cell_type": "markdown",
   "metadata": {},
   "source": [
    "# Handle Text with SPARK"
   ]
  },
  {
   "cell_type": "code",
   "execution_count": 148,
   "metadata": {
    "collapsed": true
   },
   "outputs": [],
   "source": [
    "train = sqlc.read.csv(\"/home/ubuntu/.kaggle/competitions/avito-demand-prediction/train.csv\",header=True,encoding=\"utf-8\")"
   ]
  },
  {
   "cell_type": "code",
   "execution_count": 149,
   "metadata": {
    "collapsed": true
   },
   "outputs": [],
   "source": [
    "# get high deal probability data\n",
    "trainHDP=train.filter(train[\"deal_probability\"]>0.5).filter(train.description.isNotNull())\n",
    "# get low deal probability data\n",
    "trainLDP=train.filter(train[\"deal_probability\"]<0.5).filter(train.description.isNotNull())"
   ]
  },
  {
   "cell_type": "code",
   "execution_count": 158,
   "metadata": {
    "collapsed": true,
    "scrolled": true
   },
   "outputs": [],
   "source": [
    "# define function to eliminate punctuations\n",
    "import re\n",
    "def nopunc(x):\n",
    "    return re.sub(r'[^\\w\\s]',' ',x)"
   ]
  },
  {
   "cell_type": "markdown",
   "metadata": {},
   "source": [
    "### transform text into list, and get list aggragation"
   ]
  },
  {
   "cell_type": "code",
   "execution_count": 167,
   "metadata": {
    "collapsed": true,
    "scrolled": true
   },
   "outputs": [],
   "source": [
    "mylistH=trainHighDP.rdd \\\n",
    "    .flatMap(lambda x:x[\"description\"].replace(\",\",\" \").replace(\".\",\" \").split(' ')) \\\n",
    "    .filter(lambda x:x.lower() not in russian_stop) \\\n",
    "    .filter(lambda x: (len(x)>2)) \\\n",
    "    .map(lambda t: (t.lower(), 1)) \\\n",
    "    .reduceByKey(lambda a, b: a + b) \\\n",
    "    .takeOrdered(100, key=lambda pair: -pair[1])"
   ]
  },
  {
   "cell_type": "code",
   "execution_count": null,
   "metadata": {
    "collapsed": true
   },
   "outputs": [],
   "source": [
    "mylistL=trainLowDP.rdd \\\n",
    "    .flatMap(lambda x:x[\"description\"].replace(\",\",\" \").replace(\".\",\" \").split(' ')) \\\n",
    "    .filter(lambda x:x.lower() not in russian_stop) \\\n",
    "    .filter(lambda x: (len(x)>2)) \\\n",
    "    .map(lambda t: (t.lower(), 1)) \\\n",
    "    .reduceByKey(lambda a, b: a + b) \\\n",
    "    .takeOrdered(100, key=lambda pair: -pair[1])"
   ]
  },
  {
   "cell_type": "markdown",
   "metadata": {},
   "source": [
    "### get aggragation to a dictionary and get all keywords"
   ]
  },
  {
   "cell_type": "code",
   "execution_count": 160,
   "metadata": {
    "collapsed": true
   },
   "outputs": [],
   "source": [
    "mydictH=dict(mylistH)\n",
    "mydictL=dict(mylistL)"
   ]
  },
  {
   "cell_type": "code",
   "execution_count": 161,
   "metadata": {
    "scrolled": true
   },
   "outputs": [
    {
     "data": {
      "text/plain": [
       "{'100': 14835,\n",
       " 'большой': 10609,\n",
       " 'ботинки': 9633,\n",
       " 'бу': 31986,\n",
       " 'внутри': 11143,\n",
       " 'вода': 10087,\n",
       " 'возможен': 17381,\n",
       " 'вопросы': 15922,\n",
       " 'время': 9712,\n",
       " 'высота': 9840,\n",
       " 'газ': 9191,\n",
       " 'гараж': 9594,\n",
       " 'года': 23167,\n",
       " 'города': 10011,\n",
       " 'две': 10340,\n",
       " 'девочки': 15554,\n",
       " 'девочку': 11749,\n",
       " 'джинсы': 10067,\n",
       " 'длина': 19949,\n",
       " 'документы': 11108,\n",
       " 'дом': 31128,\n",
       " 'дома': 16430,\n",
       " 'доме': 13958,\n",
       " 'звоните': 17237,\n",
       " 'идеальное': 12212,\n",
       " 'идеальном': 21527,\n",
       " 'имеется': 12674,\n",
       " 'качество': 10044,\n",
       " 'квартира': 29756,\n",
       " 'квартиру': 21038,\n",
       " 'кожа': 20252,\n",
       " 'комбинезон': 12263,\n",
       " 'комнаты': 11473,\n",
       " 'комплект': 15257,\n",
       " 'комплекте': 13651,\n",
       " 'костюм': 13989,\n",
       " 'куртка': 17522,\n",
       " 'кухня': 11658,\n",
       " 'лет': 21280,\n",
       " 'магазины': 9365,\n",
       " 'мало': 10241,\n",
       " 'мальчика': 17531,\n",
       " 'машина': 9565,\n",
       " 'наличии': 11702,\n",
       " 'натуральная': 14094,\n",
       " 'новая': 34478,\n",
       " 'новое': 15663,\n",
       " 'новые': 47895,\n",
       " 'новый': 42567,\n",
       " 'носили': 13830,\n",
       " 'обмен': 12740,\n",
       " 'окна': 16282,\n",
       " 'отдам': 12784,\n",
       " 'отличное': 36119,\n",
       " 'отличном': 71934,\n",
       " 'очень': 77052,\n",
       " 'пальто': 11433,\n",
       " 'пару': 13133,\n",
       " 'платье': 31406,\n",
       " 'подарок': 14022,\n",
       " 'покупала': 9452,\n",
       " 'покупали': 9207,\n",
       " 'полностью': 9994,\n",
       " 'продается': 27340,\n",
       " 'продажа': 9234,\n",
       " 'продам': 167569,\n",
       " 'продаю': 57321,\n",
       " 'продаётся': 10774,\n",
       " 'работает': 15197,\n",
       " 'работы': 9255,\n",
       " 'раза': 10112,\n",
       " 'размер': 110357,\n",
       " 'размеры': 9218,\n",
       " 'район': 11564,\n",
       " 'районе': 11473,\n",
       " 'ремонт': 17732,\n",
       " 'рост': 22708,\n",
       " 'руб': 27030,\n",
       " 'рублей': 15007,\n",
       " 'рядом': 20109,\n",
       " 'сапоги': 9697,\n",
       " 'состояние': 103303,\n",
       " 'состоянии': 177449,\n",
       " 'срочно': 12598,\n",
       " 'стельке': 10895,\n",
       " 'телефон': 11791,\n",
       " 'телефону': 20714,\n",
       " 'торг': 64256,\n",
       " 'туфли': 12169,\n",
       " 'удобные': 9668,\n",
       " 'уместен': 12096,\n",
       " 'участок': 18277,\n",
       " 'фирмы': 10416,\n",
       " 'фото': 25043,\n",
       " 'хорошее': 32145,\n",
       " 'хорошем': 79749,\n",
       " 'цвет': 28805,\n",
       " 'цвета': 17962,\n",
       " 'цена': 45021,\n",
       " 'школа': 10437}"
      ]
     },
     "execution_count": 161,
     "metadata": {},
     "output_type": "execute_result"
    }
   ],
   "source": [
    "mydictH"
   ]
  },
  {
   "cell_type": "code",
   "execution_count": 4,
   "metadata": {
    "collapsed": true
   },
   "outputs": [],
   "source": [
    "dealY=list(mydictH.keys())\n",
    "dealN=list(mydictL.keys())"
   ]
  },
  {
   "cell_type": "markdown",
   "metadata": {},
   "source": [
    "#lists of top words \n",
    "\n",
    "#top words for deal_probability >= 0.5\n",
    "dealY = ('состоянии', 'продам', 'хорошем', 'состояние', 'отличном', 'торг', 'очень',     \n",
    "         'продаю', 'размер', 'цена', 'б/у', 'работает', 'новый', 'хорошее', 'отличное', \n",
    "         'телефону', 'года', 'фото', 'новые', 'отдам', 'новая', 'комплекте', 'машина', \n",
    "         'продается', 'вопросы', 'цвет', 'ремонт', 'лет', 'квартира', 'идеальном', \n",
    "         'квартиру', 'комплект', 'работы', 'авто', 'руб', 'автомобиль', 'рабочем', \n",
    "         'коробка', 'телефон', 'срок', 'сдам', 'возможен', 'звоните', 'полностью', \n",
    "         'обмен', 'дом', 'коляска', 'велосипед', '\"продам', 'двигатель', 'длительный', \n",
    "         'срочно', 'подарок', 'имеется', 'самовывоз', 'полный', 'холодильник', 'резина', \n",
    "         'музыка', 'время', 'сигнализация', 'диван', 'длина', 'дома', 'салон', 'всё', \n",
    "         'связи', 'документы', 'любой', 'отлично', 'рублей', 'высота', 'продаётся', 'чехол', \n",
    "         'колеса', 'мальчика', 'большой', 'детский', 'требует', 'рядом', 'стоит', 'девочки', \n",
    "         'пробег', 'кожа', 'год', 'фирмы', 'идеальное', 'коляску', 'мало', 'мебель', 'также', \n",
    "         'ходу', 'цвета', 'уместен', 'услуги', 'птс', 'торга', 'рост', 'оригинал', 'стол')\n",
    "\n",
    "#top words for deal_probability < 0.5\n",
    "dealN = ('состоянии', 'продам', 'размер', 'состояние', 'хорошем', 'очень', 'отличном',   \n",
    "         'торг', 'продаю', 'новые', 'цена', 'новый', 'отличное', 'новая', 'хорошее', 'платье', \n",
    "         'дом', 'б/у', 'квартира', 'цвет', 'продается', 'руб', 'фото', 'рост', 'года', \n",
    "         'идеальном', 'квартиру', 'лет', 'рядом', 'кожа', 'телефону', 'длина', 'участок', \n",
    "         'цвета', 'мальчика', 'возможен', 'ремонт', 'куртка', 'окна', 'дома', 'вопросы', \n",
    "         'девочки', 'работает', 'новое', 'звоните', 'комплект', 'рублей', 'натуральная', \n",
    "         'костюм', 'доме', 'носили', 'пару', 'комплекте', 'подарок', 'отдам', 'обмен', 'имеется', \n",
    "         'комбинезон', 'туфли', 'телефон', 'девочку', 'идеальное', 'районе', 'пальто', 'кухня', \n",
    "         'комнаты', 'уместен', 'наличии', 'внутри', 'документы', 'район', 'стельке', 'продаётся', \n",
    "         'большой', 'фирмы', 'школа', 'две', 'срочно', 'полностью', 'мало', 'джинсы', 'вода', \n",
    "         'раза', 'качество', 'высота', 'города', 'сапоги', 'ботинки', 'машина', 'гараж', 'покупала', \n",
    "         'удобные', 'магазины', 'покупали', 'работы', 'также', 'время', 'газ', 'пишите', 'детский',)"
   ]
  },
  {
   "cell_type": "code",
   "execution_count": null,
   "metadata": {
    "collapsed": true
   },
   "outputs": [],
   "source": [
    "#eliminiate words that are in both lists\n",
    "dealY_unique = [elem for elem in dealY if elem not in dealN]\n",
    "dealN_unique = [elem for elem in dealN if elem not in dealY]"
   ]
  },
  {
   "cell_type": "code",
   "execution_count": null,
   "metadata": {
    "collapsed": true
   },
   "outputs": [],
   "source": [
    "#create and apply function to count yes-deal words for all entries in 'description'\n",
    "wcf = lambda d: [sum(d.count(x) for x in dealY_unique)]\n",
    "train['wordcountY'] = train['description'].apply(wcf)\n",
    "\n",
    "#create and apply function to count no-deal words for all entries in 'description'\n",
    "wcf = lambda d: [sum(d.count(x) for x in dealN_unique)]\n",
    "train['wordcountN'] = train['description'].apply(wcf)"
   ]
  },
  {
   "cell_type": "markdown",
   "metadata": {},
   "source": [
    "##### Similarly, by changing file name and path we can do analysis to test data."
   ]
  }
 ],
 "metadata": {
  "kernelspec": {
   "display_name": "Python [default]",
   "language": "python",
   "name": "python3"
  },
  "language_info": {
   "codemirror_mode": {
    "name": "ipython",
    "version": 3
   },
   "file_extension": ".py",
   "mimetype": "text/x-python",
   "name": "python",
   "nbconvert_exporter": "python",
   "pygments_lexer": "ipython3",
   "version": "3.5.3"
  }
 },
 "nbformat": 4,
 "nbformat_minor": 2
}
